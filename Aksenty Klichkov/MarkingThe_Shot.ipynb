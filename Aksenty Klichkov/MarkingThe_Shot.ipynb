{
  "cells": [
    {
      "cell_type": "code",
      "execution_count": null,
      "metadata": {
        "colab": {
          "base_uri": "https://localhost:8080/"
        },
        "id": "9cVV-2vbw-pk",
        "outputId": "7bd19efc-6edb-4a35-d04f-c4e6e3c6e10a"
      },
      "outputs": [
        {
          "output_type": "stream",
          "name": "stdout",
          "text": [
            "Collecting mediapipe\n",
            "  Downloading mediapipe-0.10.7-cp310-cp310-manylinux_2_17_x86_64.manylinux2014_x86_64.whl (33.6 MB)\n",
            "\u001b[2K     \u001b[90m━━━━━━━━━━━━━━━━━━━━━━━━━━━━━━━━━━━━━━━━\u001b[0m \u001b[32m33.6/33.6 MB\u001b[0m \u001b[31m37.8 MB/s\u001b[0m eta \u001b[36m0:00:00\u001b[0m\n",
            "\u001b[?25hRequirement already satisfied: absl-py in /usr/local/lib/python3.10/dist-packages (from mediapipe) (1.4.0)\n",
            "Requirement already satisfied: attrs>=19.1.0 in /usr/local/lib/python3.10/dist-packages (from mediapipe) (23.1.0)\n",
            "Requirement already satisfied: flatbuffers>=2.0 in /usr/local/lib/python3.10/dist-packages (from mediapipe) (23.5.26)\n",
            "Requirement already satisfied: matplotlib in /usr/local/lib/python3.10/dist-packages (from mediapipe) (3.7.1)\n",
            "Requirement already satisfied: numpy in /usr/local/lib/python3.10/dist-packages (from mediapipe) (1.23.5)\n",
            "Requirement already satisfied: opencv-contrib-python in /usr/local/lib/python3.10/dist-packages (from mediapipe) (4.8.0.76)\n",
            "Requirement already satisfied: protobuf<4,>=3.11 in /usr/local/lib/python3.10/dist-packages (from mediapipe) (3.20.3)\n",
            "Collecting sounddevice>=0.4.4 (from mediapipe)\n",
            "  Downloading sounddevice-0.4.6-py3-none-any.whl (31 kB)\n",
            "Requirement already satisfied: CFFI>=1.0 in /usr/local/lib/python3.10/dist-packages (from sounddevice>=0.4.4->mediapipe) (1.16.0)\n",
            "Requirement already satisfied: contourpy>=1.0.1 in /usr/local/lib/python3.10/dist-packages (from matplotlib->mediapipe) (1.1.1)\n",
            "Requirement already satisfied: cycler>=0.10 in /usr/local/lib/python3.10/dist-packages (from matplotlib->mediapipe) (0.12.1)\n",
            "Requirement already satisfied: fonttools>=4.22.0 in /usr/local/lib/python3.10/dist-packages (from matplotlib->mediapipe) (4.43.1)\n",
            "Requirement already satisfied: kiwisolver>=1.0.1 in /usr/local/lib/python3.10/dist-packages (from matplotlib->mediapipe) (1.4.5)\n",
            "Requirement already satisfied: packaging>=20.0 in /usr/local/lib/python3.10/dist-packages (from matplotlib->mediapipe) (23.2)\n",
            "Requirement already satisfied: pillow>=6.2.0 in /usr/local/lib/python3.10/dist-packages (from matplotlib->mediapipe) (9.4.0)\n",
            "Requirement already satisfied: pyparsing>=2.3.1 in /usr/local/lib/python3.10/dist-packages (from matplotlib->mediapipe) (3.1.1)\n",
            "Requirement already satisfied: python-dateutil>=2.7 in /usr/local/lib/python3.10/dist-packages (from matplotlib->mediapipe) (2.8.2)\n",
            "Requirement already satisfied: pycparser in /usr/local/lib/python3.10/dist-packages (from CFFI>=1.0->sounddevice>=0.4.4->mediapipe) (2.21)\n",
            "Requirement already satisfied: six>=1.5 in /usr/local/lib/python3.10/dist-packages (from python-dateutil>=2.7->matplotlib->mediapipe) (1.16.0)\n",
            "Installing collected packages: sounddevice, mediapipe\n",
            "Successfully installed mediapipe-0.10.7 sounddevice-0.4.6\n"
          ]
        }
      ],
      "source": [
        "!pip install mediapipe"
      ]
    },
    {
      "cell_type": "code",
      "execution_count": null,
      "metadata": {
        "id": "s9lhEMetmb4u"
      },
      "outputs": [],
      "source": [
        "import cv2\n",
        "import mediapipe as mp\n",
        "import os\n",
        "from google.colab.patches import cv2_imshow"
      ]
    },
    {
      "cell_type": "code",
      "execution_count": null,
      "metadata": {
        "id": "SkUcHBR1LANY"
      },
      "outputs": [],
      "source": [
        "# Открываем видеофайл\n",
        "video_path = '/content/Andriy_gedan_barai_right_side_view.mp4'\n",
        "video = cv2.VideoCapture(video_path)"
      ]
    },
    {
      "cell_type": "code",
      "execution_count": null,
      "metadata": {
        "id": "2yomDV3zRg9y"
      },
      "outputs": [],
      "source": [
        "# Создаем объект MediaPipe Pose\n",
        "pose = mp.solutions.pose.Pose()\n",
        "frame_count = 0"
      ]
    },
    {
      "cell_type": "code",
      "execution_count": null,
      "metadata": {
        "id": "Mm_NzbC5SSmV"
      },
      "outputs": [],
      "source": [
        "# Создаем директории для сохранения кадров и координат\n",
        "save_frames_dir = '/content/saved_frames'\n",
        "os.makedirs(save_frames_dir, exist_ok=True)\n",
        "\n",
        "save_coordinates_dir = '/content/saved_coordinates'\n",
        "os.makedirs(save_coordinates_dir, exist_ok=True)"
      ]
    },
    {
      "cell_type": "code",
      "execution_count": null,
      "metadata": {
        "id": "2NGh9vMDS6eI"
      },
      "outputs": [],
      "source": [
        "'''#Очистка директорий\n",
        "!rm -r /content/saved_frames/*\n",
        "!rm -r /content/saved_coordinates/*'''"
      ]
    },
    {
      "cell_type": "markdown",
      "source": [],
      "metadata": {
        "id": "Q13K1qfbfhcy"
      }
    },
    {
      "cell_type": "code",
      "source": [],
      "metadata": {
        "id": "PgnUTu2hfidm"
      },
      "execution_count": null,
      "outputs": []
    },
    {
      "cell_type": "code",
      "execution_count": null,
      "metadata": {
        "id": "owcGb9riSfsy"
      },
      "outputs": [],
      "source": [
        "# Обработка кадров и получение результатов позы\n",
        "while video.isOpened():\n",
        "    ret, frame = video.read()\n",
        "    if not ret:\n",
        "        break\n",
        "\n",
        "    # Преобразуем кадр в RGB\n",
        "    frame_rgb = cv2.cvtColor(frame, cv2.COLOR_BGR2RGB)\n",
        "\n",
        "    # Обрабатываем кадр и получаем результаты позы\n",
        "    results = pose.process(frame_rgb)\n",
        "\n",
        "    # Сохраняем кадр\n",
        "    frame_path = os.path.join(save_frames_dir, f'frame_{frame_count}.jpg')\n",
        "    cv2.imwrite(frame_path, frame)\n",
        "\n",
        "    # Сохраняем координаты точек левой руки\n",
        "    if results.pose_landmarks is not None:\n",
        "        # Получаем координаты точек левой руки, включая плечо\n",
        "        left_hand_landmarks = [results.pose_landmarks.landmark[mp.solutions.pose.PoseLandmark.LEFT_SHOULDER],\n",
        "                               results.pose_landmarks.landmark[mp.solutions.pose.PoseLandmark.LEFT_ELBOW],\n",
        "                               results.pose_landmarks.landmark[mp.solutions.pose.PoseLandmark.LEFT_WRIST],\n",
        "                               results.pose_landmarks.landmark[mp.solutions.pose.PoseLandmark.LEFT_THUMB],\n",
        "                               results.pose_landmarks.landmark[mp.solutions.pose.PoseLandmark.LEFT_INDEX],\n",
        "                               results.pose_landmarks.landmark[mp.solutions.pose.PoseLandmark.LEFT_PINKY]]\n",
        "\n",
        "        # Выводим название кадра\n",
        "        cv2.putText(frame, f'Frame: {frame_count}',\n",
        "                 (10, 30), cv2.FONT_HERSHEY_SIMPLEX, 0.5, (255, 0, 0), 2)\n",
        "\n",
        "        # Создаем файл для сохранения координат\n",
        "        filename = f\"coordinates_{frame_count}.txt\"\n",
        "        save_path = os.path.join(save_coordinates_dir, filename)\n",
        "\n",
        "        # Сохраняем координаты точек левой руки в файл\n",
        "        with open(save_path, 'w') as f:\n",
        "            f.write(f'Frame: {frame_count}\\n')\n",
        "            for i, landmark in enumerate(left_hand_landmarks):\n",
        "                x = landmark.x\n",
        "                y = landmark.y\n",
        "                z = landmark.z\n",
        "                f.write(f'Point {i+1}: X: {x:.2f} Y: {y:.2f} Z: {z:.2f}\\n')\n",
        "\n",
        "        # Выводим координаты точек левой руки в консоль\n",
        "        print(f'Frame: {frame_count}')\n",
        "        for i, landmark in enumerate(left_hand_landmarks):\n",
        "            x = landmark.x\n",
        "            y = landmark.y\n",
        "            z = landmark.z\n",
        "            print(f'Point {i+1}: X: {x:.2f} Y: {y:.2f} Z: {z:.2f}')\n",
        "\n",
        "        mp.solutions.drawing_utils.draw_landmarks(\n",
        "            frame, results.pose_landmarks, mp.solutions.pose.POSE_CONNECTIONS,\n",
        "            landmark_drawing_spec=mp.solutions.drawing_utils.DrawingSpec(color=(0, 255, 0), thickness=2, circle_radius=2),\n",
        "            connection_drawing_spec=mp.solutions.drawing_utils.DrawingSpec(color=(0, 255, 0), thickness=2)\n",
        ")\n",
        "\n",
        "        for i, landmark in enumerate(left_hand_landmarks):\n",
        "            x = int(landmark.x * frame.shape[1])\n",
        "            y = int(landmark.y * frame.shape[0])\n",
        "            if i == 0:\n",
        "        # Плечо\n",
        "                cv2.circle(frame, (x, y), 5, (0, 0, 255), -1)  # Красный цвет\n",
        "            elif i == 1 or i == 2:\n",
        "        # Локоть и кисть\n",
        "                cv2.circle(frame, (x, y), 5, (0, 0, 255), -1)  # Красный цвет\n",
        "            else:\n",
        "                cv2.circle(frame, (x, y), 5, (0, 255, 0), -1)  # Зеленый цвет\n",
        "\n",
        "            if i > 0:\n",
        "        # Соединительные линии на левой руке\n",
        "                cv2.line(frame, (int(left_hand_landmarks[i-1].x * frame.shape[1]), int(left_hand_landmarks[i-1].y * frame.shape[0])),\n",
        "                 (x, y), (0, 0, 255), 2)  # Красный цвет\n",
        "\n",
        "    # Отображаем кадр\n",
        "    cv2_imshow(frame)\n",
        "\n",
        "    frame_count += 1\n",
        "\n",
        "video.release()"
      ]
    },
    {
      "cell_type": "code",
      "source": [
        "from natsort import natsorted"
      ],
      "metadata": {
        "id": "NyjQZofPBOac"
      },
      "execution_count": null,
      "outputs": []
    },
    {
      "cell_type": "code",
      "source": [
        "# Путь к папке с сохраненными кадрами\n",
        "frames_folder = '/content/saved_frames'\n",
        "\n",
        "\n",
        "# Получение списка файлов в папке с кадрами\n",
        "frame_files = sorted(os.listdir(frames_folder))\n",
        "\n",
        "# Чтение первого кадра для определения размеров видео\n",
        "first_frame = cv2.imread(os.path.join(frames_folder, frame_files[0]))\n",
        "height, width, _ = first_frame.shape\n",
        "\n",
        "# Создание объекта VideoWriter для сохранения видео\n",
        "output_file = 'saved_video/output.mp4'\n",
        "fourcc = cv2.VideoWriter_fourcc(*'mp4v')\n",
        "video_writer = cv2.VideoWriter(output_file, fourcc, 30, (width, height))\n",
        "\n",
        "# Чтение каждого кадра из папки и запись его в видео\n",
        "for frame_file in frame_files:\n",
        "    frame_path = os.path.join(frames_folder, frame_file)\n",
        "    frame = cv2.imread(frame_path)\n",
        "    video_writer.write(frame)\n",
        "\n",
        "\n",
        "\n",
        "\n",
        "\n",
        "\n",
        "\n"
      ],
      "metadata": {
        "id": "LUpzo-FD9RzT"
      },
      "execution_count": null,
      "outputs": []
    },
    {
      "cell_type": "code",
      "source": [
        "# Закрытие объекта VideoWriter\n",
        "video_writer.release()"
      ],
      "metadata": {
        "id": "cq6WV6muFcIx"
      },
      "execution_count": null,
      "outputs": []
    },
    {
      "cell_type": "code",
      "source": [
        "# Воспроизведение видео на экране\n",
        "video_capture = cv2.VideoCapture(output_file)\n",
        "while True:\n",
        "    ret, frame = video_capture.read()\n",
        "    if not ret:\n",
        "        break\n",
        "    cv2.imshow('Video', frame)\n",
        "    if cv2.waitKey(1) == ord('q'):\n",
        "        break"
      ],
      "metadata": {
        "id": "i5cJMuWuFfLG"
      },
      "execution_count": null,
      "outputs": []
    },
    {
      "cell_type": "code",
      "source": [
        "# Закрытие окон и освобождение ресурсов\n",
        "cv2.destroyAllWindows()\n",
        "video_capture.release()"
      ],
      "metadata": {
        "id": "i4nkSf8EFf8J"
      },
      "execution_count": null,
      "outputs": []
    }
  ],
  "metadata": {
    "colab": {
      "provenance": [],
      "gpuType": "T4"
    },
    "kernelspec": {
      "display_name": "Python 3",
      "name": "python3"
    },
    "language_info": {
      "name": "python"
    },
    "accelerator": "GPU"
  },
  "nbformat": 4,
  "nbformat_minor": 0
}